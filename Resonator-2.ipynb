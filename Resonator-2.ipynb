{
 "cells": [
  {
   "cell_type": "code",
   "execution_count": 1,
   "metadata": {},
   "outputs": [],
   "source": [
    "import matplotlib.pyplot as plt\n",
    "import numpy as np\n",
    "import pandas as pd\n",
    "\n",
    "import lmfit"
   ]
  },
  {
   "cell_type": "markdown",
   "metadata": {},
   "source": [
    "### Define Resonator Model"
   ]
  },
  {
   "cell_type": "code",
   "execution_count": 2,
   "metadata": {},
   "outputs": [],
   "source": [
    "def linear_resonator2(f, f_0, Q, Q_e_real, Q_e_imag):\n",
    "    Q_e = Q_e_real + 1j*Q_e_imag\n",
    "    return 1 - (Q * Q_e**-1 / (1 + 2j * Q * (f - f_0) / f_0))"
   ]
  },
  {
   "cell_type": "code",
   "execution_count": 3,
   "metadata": {},
   "outputs": [],
   "source": [
    "class ResonatorModel2(lmfit.model.Model):\n",
    "    __doc__ = \"resonator model\" + lmfit.models.COMMON_DOC\n",
    "\n",
    "    def __init__(self, *args, **kwargs):\n",
    "        # pass in the defining equation so the user doesn't have to later.\n",
    "        super().__init__(linear_resonator2, *args, **kwargs)\n",
    "\n",
    "        #self.set_param_hint('Q', min=0)  # Enforce Q is positive\n",
    "        #self.set_param_hint('phi_0', min=0, max=2*np.pi)\n",
    "        #self.set_param_hint('t_v', min=0, max=2*np.pi)\n",
    "\n",
    "    def guess(self, data, f=None, **kwargs):\n",
    "        verbose = kwargs.pop('verbose', None)\n",
    "        if f is None:\n",
    "            return\n",
    "        argmin_s21 = np.abs(data).argmin()\n",
    "        fmin = f.min()\n",
    "        fmax = f.max()\n",
    "        f_0_guess = f[argmin_s21]  # guess that the resonance is the lowest point\n",
    "        Q_min = 0.1 * (f_0_guess/(fmax-fmin))  # assume the user isn't trying to fit just a small part of a resonance curve.\n",
    "        delta_f = np.diff(f)  # assume f is sorted\n",
    "        min_delta_f = delta_f[delta_f > 0].min()\n",
    "        Q_max = f_0_guess/min_delta_f  # assume data actually samples the resonance reasonably\n",
    "        Q_guess = np.sqrt(Q_min*Q_max)  # geometric mean, why not?\n",
    "        Q_e_real_guess = Q_guess/(1-np.abs(data[argmin_s21]))\n",
    "        if verbose:\n",
    "            print(\"fmin=\", fmin, \"fmax=\", fmax, \"f_0_guess=\", f_0_guess)\n",
    "            print(\"Qmin=\", Q_min, \"Q_max=\", Q_max, \"Q_guess=\", Q_guess, \"Q_e_real_guess=\", Q_e_real_guess)\n",
    "        params = self.make_params(Q=Q_guess, Q_e_real=Q_e_real_guess, Q_e_imag=0, f_0=f_0_guess)\n",
    "        #params['%sQ' % self.prefix].set(min=Q_min, max=Q_max)\n",
    "        params['%sf_0' % self.prefix].set(min=fmin, max=fmax)\n",
    "        return lmfit.models.update_param_vals(params, self.prefix, **kwargs)"
   ]
  },
  {
   "cell_type": "markdown",
   "metadata": {},
   "source": [
    "### Load Data from the One Hanger Impedance Analysis (See notebook)"
   ]
  },
  {
   "cell_type": "code",
   "execution_count": 4,
   "metadata": {},
   "outputs": [],
   "source": [
    "s21_data = pd.read_csv(\"s21_data.csv\")"
   ]
  },
  {
   "cell_type": "code",
   "execution_count": 5,
   "metadata": {},
   "outputs": [
    {
     "name": "stdout",
     "output_type": "stream",
     "text": [
      "<class 'pandas.core.frame.DataFrame'>\n",
      "RangeIndex: 1001 entries, 0 to 1000\n",
      "Data columns (total 16 columns):\n",
      " #   Column             Non-Null Count  Dtype  \n",
      "---  ------             --------------  -----  \n",
      " 0   Unnamed: 0         1001 non-null   float64\n",
      " 1   S11                1001 non-null   object \n",
      " 2   S21                1001 non-null   object \n",
      " 3   S31                1001 non-null   object \n",
      " 4   S12                1001 non-null   object \n",
      " 5   S22                1001 non-null   object \n",
      " 6   S32                1001 non-null   object \n",
      " 7   S13                1001 non-null   object \n",
      " 8   S23                1001 non-null   object \n",
      " 9   S33                1001 non-null   object \n",
      " 10  20_log_of_mag_S11  1001 non-null   float64\n",
      " 11  20_log_of_mag_S21  1001 non-null   float64\n",
      " 12  20_log_of_mag_S31  1001 non-null   float64\n",
      " 13  degrees_S11        1001 non-null   float64\n",
      " 14  degrees_S21        1001 non-null   float64\n",
      " 15  degrees_S31        1001 non-null   float64\n",
      "dtypes: float64(7), object(9)\n",
      "memory usage: 125.2+ KB\n"
     ]
    }
   ],
   "source": [
    "s21_data.info()"
   ]
  },
  {
   "cell_type": "code",
   "execution_count": 6,
   "metadata": {},
   "outputs": [],
   "source": [
    "s21_data = s21_data.rename(columns={\"Unnamed: 0\":\"frequency\"})"
   ]
  },
  {
   "cell_type": "code",
   "execution_count": 7,
   "metadata": {
    "scrolled": true
   },
   "outputs": [
    {
     "data": {
      "text/plain": [
       "(-0.867414667392116+0.495742666261647j)"
      ]
     },
     "execution_count": 7,
     "metadata": {},
     "output_type": "execute_result"
    }
   ],
   "source": [
    "s21 = s21_data.S21.to_numpy(dtype ='cfloat')\n",
    "s21[0]"
   ]
  },
  {
   "cell_type": "code",
   "execution_count": 8,
   "metadata": {
    "scrolled": true
   },
   "outputs": [
    {
     "data": {
      "text/plain": [
       "1001"
      ]
     },
     "execution_count": 8,
     "metadata": {},
     "output_type": "execute_result"
    }
   ],
   "source": [
    "len(s21_data)"
   ]
  },
  {
   "cell_type": "markdown",
   "metadata": {},
   "source": [
    "#### Some Utilities"
   ]
  },
  {
   "cell_type": "code",
   "execution_count": 9,
   "metadata": {},
   "outputs": [],
   "source": [
    "def plot_ri(data, *args, **kwargs):\n",
    "    plt.plot(data.imag, data.real, *args, **kwargs)"
   ]
  },
  {
   "cell_type": "code",
   "execution_count": 10,
   "metadata": {},
   "outputs": [],
   "source": [
    "def normalize_complex_arr(a):\n",
    "    a_oo = a - a.real.min() - 1j*a.imag.min() # origin offsetted\n",
    "    return a_oo/np.abs(a_oo).max()"
   ]
  },
  {
   "cell_type": "markdown",
   "metadata": {},
   "source": [
    "### A Look at the Data"
   ]
  },
  {
   "cell_type": "code",
   "execution_count": 11,
   "metadata": {},
   "outputs": [
    {
     "data": {
      "text/plain": [
       "array([4.   , 4.001, 4.002, ..., 4.998, 4.999, 5.   ])"
      ]
     },
     "execution_count": 11,
     "metadata": {},
     "output_type": "execute_result"
    }
   ],
   "source": [
    "freq = s21_data.frequency.to_numpy()\n",
    "freq "
   ]
  },
  {
   "cell_type": "code",
   "execution_count": 12,
   "metadata": {},
   "outputs": [],
   "source": [
    "ns21 = normalize_complex_arr(s21)"
   ]
  },
  {
   "cell_type": "code",
   "execution_count": 13,
   "metadata": {},
   "outputs": [
    {
     "data": {
      "text/plain": [
       "Text(0.5, 0, 'GHz')"
      ]
     },
     "execution_count": 13,
     "metadata": {},
     "output_type": "execute_result"
    },
    {
     "data": {
      "image/png": "[encoded data removed]",
      "text/plain": [
       "<Figure size 432x288 with 1 Axes>"
      ]
     },
     "metadata": {
      "needs_background": "light"
     },
     "output_type": "display_data"
    },
    {
     "data": {
      "image/png": "[encoded data removed]",
      "text/plain": [
       "<Figure size 432x288 with 1 Axes>"
      ]
     },
     "metadata": {
      "needs_background": "light"
     },
     "output_type": "display_data"
    }
   ],
   "source": [
    "plt.figure()\n",
    "plot_ri(ns21, '.')\n",
    "plt.xlabel('Re(S21)')\n",
    "plt.ylabel('Im(S21)')\n",
    "\n",
    "plt.figure()\n",
    "plt.plot(freq, 20*np.log10(np.abs(ns21)), '.')\n",
    "plt.ylabel('|S21| (dB)')\n",
    "plt.xlabel('GHz')"
   ]
  },
  {
   "cell_type": "markdown",
   "metadata": {},
   "source": [
    "#### Range maybe too wide, focus on \"notch\""
   ]
  },
  {
   "cell_type": "code",
   "execution_count": 14,
   "metadata": {},
   "outputs": [
    {
     "data": {
      "text/plain": [
       "Text(0.5, 0, 'GHz')"
      ]
     },
     "execution_count": 14,
     "metadata": {},
     "output_type": "execute_result"
    },
    {
     "data": {
      "image/png": "[encoded data removed]",
      "text/plain": [
       "<Figure size 432x288 with 1 Axes>"
      ]
     },
     "metadata": {
      "needs_background": "light"
     },
     "output_type": "display_data"
    }
   ],
   "source": [
    "\n",
    "plt.figure()\n",
    "plt.plot(freq[550:600], 20*np.log10(np.abs(ns21[550:600])), '-')\n",
    "plt.ylabel('|S21| (dB)')\n",
    "plt.xlabel('GHz')"
   ]
  },
  {
   "cell_type": "markdown",
   "metadata": {},
   "source": [
    "### Now try the Resonator Model\n",
    "#### First using the guess() of the model"
   ]
  },
  {
   "cell_type": "code",
   "execution_count": 15,
   "metadata": {},
   "outputs": [
    {
     "name": "stdout",
     "output_type": "stream",
     "text": [
      "fmin= 4.55 fmax= 4.599 f_0_guess= 4.58\n",
      "Qmin= 9.346938775510132 Q_max= 4580.000000002538 Q_guess= 206.90330976535907 Q_e_real_guess= 206.9880998194861\n"
     ]
    }
   ],
   "source": [
    "resonator1 = ResonatorModel2()\n",
    "guess_params = resonator1.guess(ns21[550:600], f=freq[550:600], verbose=True)"
   ]
  },
  {
   "cell_type": "code",
   "execution_count": 16,
   "metadata": {},
   "outputs": [
    {
     "ename": "NameError",
     "evalue": "name 'close_params' is not defined",
     "output_type": "error",
     "traceback": [
      "\u001b[1;31m---------------------------------------------------------------------------\u001b[0m",
      "\u001b[1;31mNameError\u001b[0m                                 Traceback (most recent call last)",
      "\u001b[1;32m<ipython-input-16-3eb0262ee5c4>\u001b[0m in \u001b[0;36m<module>\u001b[1;34m\u001b[0m\n\u001b[1;32m----> 1\u001b[1;33m \u001b[0mresult\u001b[0m \u001b[1;33m=\u001b[0m \u001b[0mresonator1\u001b[0m\u001b[1;33m.\u001b[0m\u001b[0mfit\u001b[0m\u001b[1;33m(\u001b[0m\u001b[0mns21\u001b[0m\u001b[1;33m[\u001b[0m\u001b[1;36m550\u001b[0m\u001b[1;33m:\u001b[0m\u001b[1;36m600\u001b[0m\u001b[1;33m]\u001b[0m\u001b[1;33m,\u001b[0m \u001b[0mparams\u001b[0m\u001b[1;33m=\u001b[0m\u001b[0mclose_params\u001b[0m\u001b[1;33m,\u001b[0m \u001b[0mf\u001b[0m\u001b[1;33m=\u001b[0m\u001b[0mfreq\u001b[0m\u001b[1;33m[\u001b[0m\u001b[1;36m550\u001b[0m\u001b[1;33m:\u001b[0m\u001b[1;36m600\u001b[0m\u001b[1;33m]\u001b[0m\u001b[1;33m,\u001b[0m \u001b[0mverbose\u001b[0m\u001b[1;33m=\u001b[0m\u001b[1;32mTrue\u001b[0m\u001b[1;33m)\u001b[0m\u001b[1;33m\u001b[0m\u001b[1;33m\u001b[0m\u001b[0m\n\u001b[0m\u001b[0;32m      2\u001b[0m \u001b[1;33m\u001b[0m\u001b[0m\n\u001b[0;32m      3\u001b[0m \u001b[0mprint\u001b[0m\u001b[1;33m(\u001b[0m\u001b[0mresult\u001b[0m\u001b[1;33m.\u001b[0m\u001b[0mfit_report\u001b[0m\u001b[1;33m(\u001b[0m\u001b[1;33m)\u001b[0m \u001b[1;33m+\u001b[0m \u001b[1;34m'\\n'\u001b[0m\u001b[1;33m)\u001b[0m\u001b[1;33m\u001b[0m\u001b[1;33m\u001b[0m\u001b[0m\n\u001b[0;32m      4\u001b[0m \u001b[0mresult\u001b[0m\u001b[1;33m.\u001b[0m\u001b[0mparams\u001b[0m\u001b[1;33m.\u001b[0m\u001b[0mpretty_print\u001b[0m\u001b[1;33m(\u001b[0m\u001b[1;33m)\u001b[0m\u001b[1;33m\u001b[0m\u001b[1;33m\u001b[0m\u001b[0m\n",
      "\u001b[1;31mNameError\u001b[0m: name 'close_params' is not defined"
     ]
    }
   ],
   "source": [
    "result = resonator1.fit(ns21[550:600], params=close_params, f=freq[550:600], verbose=True)\n",
    "\n",
    "print(result.fit_report() + '\\n')\n",
    "result.params.pretty_print()"
   ]
  },
  {
   "cell_type": "code",
   "execution_count": null,
   "metadata": {},
   "outputs": [],
   "source": [
    "fit_s21 = resonator1.eval(params=result.params, f=freq[550:600])\n",
    "guess_s21 = resonator1.eval(params=guess_params, f=freq[550:600])\n",
    "\n",
    "plt.figure()\n",
    "plot_ri(ns21[550:600], '.')\n",
    "plot_ri(fit_s21, 'r.-', label='best fit')\n",
    "plot_ri(guess_s21, 'k--', label='initial fit')\n",
    "plt.legend(loc='best')\n",
    "plt.xlabel('Re(S21)')\n",
    "plt.ylabel('Im(S21)')\n",
    "\n",
    "plt.figure()\n",
    "plt.plot(freq[550:600], 20*np.log10(np.abs(ns21[550:600])), '.')\n",
    "plt.plot(freq[550:600], 20*np.log10(np.abs(fit_s21)), 'r.-', label='best fit')\n",
    "#plt.plot(freq, 20*np.log10(np.abs(guess_s21)), 'k--', label='initial fit')\n",
    "plt.legend(loc='best')\n",
    "plt.ylabel('|S21| (dB)')\n",
    "plt.xlabel('MHz')"
   ]
  },
  {
   "cell_type": "markdown",
   "metadata": {},
   "source": [
    "#### Making my own starting params"
   ]
  },
  {
   "cell_type": "code",
   "execution_count": null,
   "metadata": {},
   "outputs": [],
   "source": [
    "resonator2 = ResonatorModel2()\n",
    "#close_params = resonator2.make_params(f_0=4.58, Q=50000000, Q_e_real=100, Q_e_imag=-1000)\n",
    "close_params = resonator2.make_params(f_0=4.58, Q=5e7, Q_e_real=500, Q_e_imag=-2000)"
   ]
  },
  {
   "cell_type": "code",
   "execution_count": null,
   "metadata": {},
   "outputs": [],
   "source": [
    "result = resonator2.fit(ns21[550:600], params=close_params, f=freq[550:600], verbose=True)\n",
    "\n",
    "print(result.fit_report() + '\\n')\n",
    "result.params.pretty_print()"
   ]
  },
  {
   "cell_type": "code",
   "execution_count": null,
   "metadata": {},
   "outputs": [],
   "source": [
    "fit_s21 = resonator2.eval(params=result.params, f=freq[550:600])\n",
    "guess_s21 = resonator2.eval(params=close_params, f=freq[550:600])\n",
    "\n",
    "plt.figure()\n",
    "plot_ri(ns21[550:600], '.')\n",
    "plot_ri(fit_s21, 'r.-', label='best fit')\n",
    "#plot_ri(guess_s21, 'k--', label='initial fit')\n",
    "plt.legend(loc='best')\n",
    "plt.xlabel('Re(S21)')\n",
    "plt.ylabel('Im(S21)')\n",
    "\n",
    "plt.figure()\n",
    "plt.plot(freq[550:600], 20*np.log10(np.abs(ns21[550:600])), '.')\n",
    "plt.plot(freq[550:600], 20*np.log10(np.abs(fit_s21)), 'r.-', label='best fit')\n",
    "#plt.plot(freq, 20*np.log10(np.abs(guess_s21)), 'k--', label='initial fit')\n",
    "plt.legend(loc='best')\n",
    "plt.ylabel('|S21| (dB)')\n",
    "plt.xlabel('MHz')"
   ]
  },
  {
   "cell_type": "code",
   "execution_count": null,
   "metadata": {},
   "outputs": [],
   "source": []
  },
  {
   "cell_type": "code",
   "execution_count": null,
   "metadata": {},
   "outputs": [],
   "source": []
  }
 ],
 "metadata": {
  "kernelspec": {
   "display_name": "Python 3",
   "language": "python",
   "name": "python3"
  },
  "language_info": {
   "codemirror_mode": {
    "name": "ipython",
    "version": 3
   },
   "file_extension": ".py",
   "mimetype": "text/x-python",
   "name": "python",
   "nbconvert_exporter": "python",
   "pygments_lexer": "ipython3",
   "version": "3.9.5"
  }
 },
 "nbformat": 4,
 "nbformat_minor": 4
}
