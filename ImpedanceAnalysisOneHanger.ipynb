{
 "cells": [
  {
   "cell_type": "code",
   "execution_count": 1,
   "id": "11c0f5f9",
   "metadata": {},
   "outputs": [],
   "source": [
    "%load_ext autoreload\n",
    "%autoreload 2"
   ]
  },
  {
   "cell_type": "code",
   "execution_count": 2,
   "id": "bc86a220",
   "metadata": {},
   "outputs": [],
   "source": [
    "import qiskit_metal as metal\n",
    "from qiskit_metal import designs, draw\n",
    "from qiskit_metal import MetalGUI, Dict, Headings\n",
    "import pyEPR as epr\n",
    "from qiskit_metal.analyses.sweep_options.sweeping import Sweeping"
   ]
  },
  {
   "cell_type": "markdown",
   "id": "dccaa21c",
   "metadata": {},
   "source": [
    "### Design"
   ]
  },
  {
   "cell_type": "code",
   "execution_count": 3,
   "id": "97bea8b2",
   "metadata": {},
   "outputs": [],
   "source": [
    "design = designs.DesignPlanar({}, True)\n",
    "design.chips.main.size['size_x'] = '2mm'\n",
    "design.chips.main.size['size_y'] = '2mm'\n",
    "\n",
    "gui = MetalGUI(design)\n",
    "\n",
    "# Perform the necessary imports.\n",
    "from qiskit_metal.qlibrary.couplers.coupled_line_tee import CoupledLineTee\n",
    "from qiskit_metal.qlibrary.tlines.meandered import RouteMeander\n",
    "from qiskit_metal.qlibrary.qubits.transmon_pocket import TransmonPocket\n",
    "from qiskit_metal.qlibrary.tlines.straight_path import RouteStraight\n",
    "from qiskit_metal.qlibrary.terminations.open_to_ground import OpenToGround\n",
    "# To create plots after geting solution data.\n",
    "import matplotlib.pyplot as plt\n",
    "import numpy as np"
   ]
  },
  {
   "cell_type": "code",
   "execution_count": 7,
   "id": "a64a689f",
   "metadata": {},
   "outputs": [],
   "source": [
    "# Add 1 transmons to the design.\n",
    "options = dict(\n",
    "    # Some options we want to modify from the defaults\n",
    "    # (see below for defaults)\n",
    "    pad_width='425 um',\n",
    "    pocket_height='650um',\n",
    "    # Adding 4 connectors (see below for defaults)\n",
    "    connection_pads=dict(a=dict(loc_W=+1, loc_H=+1),\n",
    "                         b=dict(loc_W=-1, loc_H=+1, pad_height='30um'),\n",
    "                         c=dict(loc_W=+1, loc_H=-1, pad_width='200um'),\n",
    "                         d=dict(loc_W=-1, loc_H=-1, pad_height='50um')))\n",
    "\n",
    "## Create 2 transmons\n",
    "q1 = TransmonPocket(design,\n",
    "                    'Q1',\n",
    "                    options=dict(pos_x='0mm',\n",
    "                                 pos_y='0mm',\n",
    "                                 orientation='90',\n",
    "                                 **options))\n",
    "#q2 = TransmonPocket(design,\n",
    "#                    'Q2',\n",
    "#                    options=dict(pos_x='-0.6mm',\n",
    "#                                 pos_y='0mm',\n",
    "#                                 orientation='90',\n",
    "#                                 **options))\n",
    "\n",
    "gui.rebuild()\n",
    "gui.autoscale()"
   ]
  },
  {
   "cell_type": "code",
   "execution_count": 34,
   "id": "4cb8a91f",
   "metadata": {},
   "outputs": [],
   "source": [
    "# Add 1 hangers consisting of capacitively coupled transmission lines.\n",
    "TQ1 = CoupledLineTee(design,\n",
    "                     'TQ1',\n",
    "                     options=dict(pos_x='-0.4mm',\n",
    "                                  pos_y='3mm',\n",
    "                                  coupling_length='500um',\n",
    "                                  coupling_space='1um'))\n",
    "#TQ2 = CoupledLineTee(design,\n",
    "#                     'TQ2',\n",
    "#                     options=dict(pos_x='-1mm',\n",
    "#                                  pos_y='3mm',\n",
    "#                                  coupling_length='500um',\n",
    "#                                  coupling_space='1um'))\n",
    "\n",
    "gui.rebuild()\n",
    "gui.autoscale()"
   ]
  },
  {
   "cell_type": "code",
   "execution_count": 6,
   "id": "576623a1",
   "metadata": {},
   "outputs": [],
   "source": [
    "# Add 2 meandered CPWs connecting the transmons to the hangers.\n",
    "ops = dict(fillet='90um')\n",
    "design.overwrite_enabled = True\n",
    "\n",
    "options1 = Dict(total_length='8mm',\n",
    "                hfss_wire_bonds=True,\n",
    "                pin_inputs=Dict(start_pin=Dict(component='TQ1',\n",
    "                                               pin='second_end'),\n",
    "                                end_pin=Dict(component='Q1', pin='a')),\n",
    "                lead=Dict(start_straight='0.1mm'),\n",
    "                **ops)\n",
    "\n",
    "#options2 = Dict(total_length='9mm',\n",
    "#                hfss_wire_bonds=True,\n",
    "#                pin_inputs=Dict(start_pin=Dict(component='TQ2',\n",
    "#                                               pin='second_end'),\n",
    "#                                end_pin=Dict(component='Q2', pin='a')),\n",
    "#                lead=Dict(start_straight='0.1mm'),\n",
    "#                **ops)\n",
    "\n",
    "meanderQ1 = RouteMeander(design, 'meanderQ1', options=options1)\n",
    "#meanderQ2 = RouteMeander(design, 'meanderQ2', options=options2)\n",
    "\n",
    "gui.rebuild()\n",
    "gui.autoscale()"
   ]
  },
  {
   "cell_type": "code",
   "execution_count": 37,
   "id": "cf52a46b",
   "metadata": {},
   "outputs": [],
   "source": [
    "# Add 2 open to grounds at the ends of the horizontal CPW.\n",
    "otg1 = OpenToGround(design, 'otg1', options=dict(pos_x='1mm', pos_y='3mm'))\n",
    "otg2 = OpenToGround(design,\n",
    "                    'otg2',\n",
    "                    options=dict(pos_x='-1.4mm', pos_y='3mm', orientation='180'))\n",
    "\n",
    "gui.rebuild()\n",
    "gui.autoscale()\n",
    "\n",
    "# Add 3 straight CPWs that comprise the long horizontal CPW.\n",
    "\n",
    "ops_oR = Dict(hfss_wire_bonds=True,\n",
    "              pin_inputs=Dict(start_pin=Dict(component='TQ1', pin='prime_end'),\n",
    "                              end_pin=Dict(component='otg1', pin='open')))\n",
    "#ops_mid = Dict(hfss_wire_bonds=True,\n",
    "#               pin_inputs=Dict(start_pin=Dict(component='TQ1',\n",
    "#                                              pin='prime_start'),\n",
    "#                               end_pin=Dict(component='TQ2', pin='prime_end')))\n",
    "ops_oL = Dict(hfss_wire_bonds=True,\n",
    "              pin_inputs=Dict(start_pin=Dict(component='TQ1',\n",
    "                                             pin='prime_start'),\n",
    "                              end_pin=Dict(component='otg2', pin='open')))\n",
    "\n",
    "cpw_openRight = RouteStraight(design, 'cpw_openRight', options=ops_oR)\n",
    "#cpw_middle = RouteStraight(design, 'cpw_middle', options=ops_mid)\n",
    "cpw_openLeft = RouteStraight(design, 'cpw_openLeft', options=ops_oL)\n",
    "\n",
    "gui.rebuild()\n",
    "gui.autoscale()"
   ]
  },
  {
   "cell_type": "code",
   "execution_count": 38,
   "id": "cdd1fa0d",
   "metadata": {},
   "outputs": [
    {
     "data": {
      "image/png": "[encoded data removed]",
      "text/plain": [
       "<IPython.core.display.Image object>"
      ]
     },
     "metadata": {
      "image/png": {
       "width": 500
      }
     },
     "output_type": "display_data"
    }
   ],
   "source": [
    "gui.screenshot()"
   ]
  },
  {
   "cell_type": "code",
   "execution_count": 63,
   "id": "392e9336",
   "metadata": {},
   "outputs": [],
   "source": [
    "#Reference to Ansys hfss QRenderer\n",
    "hfss = design.renderers.hfss\n",
    "\n",
    "# This cell will open the Ansys application.  Run this cell, if Ansys, is not already open.\n",
    "# A project will be opened using this command.\n",
    "hfss.open_ansys(path_var='ANSYSEM_ROOT211')"
   ]
  },
  {
   "cell_type": "code",
   "execution_count": 64,
   "id": "72787f81",
   "metadata": {},
   "outputs": [],
   "source": [
    "sweep = Sweeping(design)"
   ]
  },
  {
   "cell_type": "code",
   "execution_count": 65,
   "id": "7fccfb15",
   "metadata": {},
   "outputs": [],
   "source": [
    "# Set the buffer width at the edge of the design to be 0.5 mm\n",
    "# in both directions.\n",
    "\n",
    "hfss.options['x_buffer_width_mm'] = 0.5\n",
    "hfss.options['y_buffer_width_mm'] = 0.5"
   ]
  },
  {
   "cell_type": "code",
   "execution_count": 66,
   "id": "926a722c",
   "metadata": {},
   "outputs": [],
   "source": [
    "selection = [] # Means to render everything in qgeometry table.\n",
    "open_pins = []\n",
    "\n",
    "# Here, pin cpw_openRight_end and cpw_openLeft_end are converted into lumped ports,\n",
    "#           each with an impedance of 50 Ohms. <br>\n",
    "port_list = [('cpw_openRight', 'end', 50),\n",
    "                      ('cpw_openLeft', 'end', 50)]\n",
    "jj_to_port = [('Q1', 'rect_jj', 50, False)]\n",
    "# Neither of the junctions in Q1 or Q2 are rendered.\n",
    "ignored_jjs = [('Q2', 'rect_jj')]\n",
    "box_plus_buffer = True\n",
    "\n",
    "dm_render_args = Dict(selection=selection,\n",
    "                      open_pins=open_pins,\n",
    "                      port_list=port_list,\n",
    "                      jj_to_port=jj_to_port,\n",
    "                      ignored_jjs=ignored_jjs,\n",
    "                      box_plus_buffer=box_plus_buffer)"
   ]
  },
  {
   "cell_type": "code",
   "execution_count": 67,
   "id": "97f177e7",
   "metadata": {},
   "outputs": [],
   "source": [
    "# Pass a dict with arguments to be used add Setup to project.\n",
    "# If you don't pass all the arguments, the default is determined by\n",
    "# QHFSSRenderer's default_options.\n",
    "# The name of setup will be \"Sweep_dm_setup\".\n",
    "# If a setup named \"Sweep_dm_setup\" exists in the project, it will be deleted,\n",
    "# and a new setup will be added with the arguments from setup_args.\n",
    "hfss_dm_setup_args = Dict(freq_ghz=None,\n",
    "                          max_delta_s=None,\n",
    "                          max_passes=None,\n",
    "                          min_passes=None,\n",
    "                          min_converged=None,\n",
    "                          pct_refinement=None,\n",
    "                          basis_order=None)\n",
    "# Example of updating the keys that we are interested in.\n",
    "hfss_dm_setup_args = Dict(\n",
    "    freq_ghz=6.0,\n",
    "    max_delta_s=0.05,\n",
    "    max_passes=12,\n",
    "    min_passes=2,\n",
    ")\n"
   ]
  },
  {
   "cell_type": "code",
   "execution_count": 68,
   "id": "cd817704",
   "metadata": {},
   "outputs": [],
   "source": [
    "dm_add_sweep_args = Dict(name=\"Sweep_options__dm_sweep\",\n",
    "                         start_ghz=4.0,\n",
    "                         stop_ghz=5.0,\n",
    "                         count=1001,\n",
    "                         type=\"Interpolating\")\n"
   ]
  },
  {
   "cell_type": "code",
   "execution_count": 69,
   "id": "184cf217",
   "metadata": {
    "scrolled": false
   },
   "outputs": [
    {
     "name": "stderr",
     "output_type": "stream",
     "text": [
      "INFO 02:25AM [connect_project]: Connecting to Ansys Desktop API...\n",
      "INFO 02:25AM [load_ansys_project]: \tOpened Ansys App\n",
      "INFO 02:25AM [load_ansys_project]: \tOpened Ansys Desktop v2021.1.0\n",
      "INFO 02:25AM [load_ansys_project]: \tOpened Ansys Project\n",
      "\tFolder:    C:/Users/joshd/Documents/\n",
      "\tProject:   Project9\n",
      "INFO 02:25AM [connect_design]: No active design found (or error getting active design).\n",
      "INFO 02:25AM [connect]: \t Connected to project \"Project9\". No design detected\n",
      "02:25AM 27s WARNING [activate_drivenmodal_design]: The name=Sweep_DrivenModal was not in active project.  A new design will be inserted to the project.  Names in active project are: \n",
      "[].  \n",
      "INFO 02:25AM [connect_design]: \tOpened active design\n",
      "\tDesign:    Sweep_DrivenModal [Solution type: DrivenModal]\n",
      "WARNING 02:25AM [connect_setup]: \tNo design setup detected.\n",
      "WARNING 02:25AM [connect_setup]: \tCreating drivenmodal default setup.\n",
      "INFO 02:25AM [get_setup]: \tOpened setup `Setup`  (<class 'pyEPR.ansys.HfssDMSetup'>)\n",
      "INFO 02:25AM [get_setup]: \tOpened setup `Sweep_dm_setup`  (<class 'pyEPR.ansys.HfssDMSetup'>)\n",
      "INFO 02:26AM [get_setup]: \tOpened setup `Sweep_dm_setup`  (<class 'pyEPR.ansys.HfssDMSetup'>)\n",
      "INFO 02:26AM [get_setup]: \tOpened setup `Sweep_dm_setup`  (<class 'pyEPR.ansys.HfssDMSetup'>)\n",
      "INFO 02:26AM [analyze]: Analyzing setup Sweep_dm_setup : Sweep_options__dm_sweep\n",
      "INFO 02:34AM [get_setup]: \tOpened setup `Sweep_dm_setup`  (<class 'pyEPR.ansys.HfssDMSetup'>)\n",
      "INFO 02:34AM [analyze]: Analyzing setup Sweep_dm_setup : Sweep_options__dm_sweep\n",
      "INFO 02:40AM [get_setup]: \tOpened setup `Sweep_dm_setup`  (<class 'pyEPR.ansys.HfssDMSetup'>)\n",
      "INFO 02:40AM [analyze]: Analyzing setup Sweep_dm_setup : Sweep_options__dm_sweep\n"
     ]
    }
   ],
   "source": [
    "all_sweeps, return_code = sweep.sweep_one_option_get_drivenmodal_solution_data(\n",
    "    meanderQ1.name,\n",
    "    'total_length', ['9mm', '8mm', '7mm'],\n",
    "    dm_render_args,\n",
    "    setup_args=hfss_dm_setup_args,\n",
    "    dm_add_sweep_args=dm_add_sweep_args,\n",
    "    leave_last_design=True)"
   ]
  },
  {
   "cell_type": "code",
   "execution_count": 51,
   "id": "aedc9305",
   "metadata": {},
   "outputs": [],
   "source": [
    "#hfss.disconnect_ansys()"
   ]
  },
  {
   "cell_type": "code",
   "execution_count": 70,
   "id": "78694705",
   "metadata": {},
   "outputs": [
    {
     "name": "stdout",
     "output_type": "stream",
     "text": [
      "dict_keys(['9mm', '8mm', '7mm'])\n"
     ]
    }
   ],
   "source": [
    "# Each key corresponds to list passed to ['9mm', '8mm', '7mm']\n",
    "if return_code == 0:\n",
    "    print(all_sweeps.keys())\n",
    "else:\n",
    "    print('Check warning messages to see why all_sweeps is non-zero.')"
   ]
  },
  {
   "cell_type": "code",
   "execution_count": 71,
   "id": "53a99f51",
   "metadata": {},
   "outputs": [
    {
     "data": {
      "text/plain": [
       "'total_length'"
      ]
     },
     "execution_count": 71,
     "metadata": {},
     "output_type": "execute_result"
    }
   ],
   "source": [
    "all_sweeps['9mm']['option_name']"
   ]
  },
  {
   "cell_type": "code",
   "execution_count": 72,
   "id": "30fd4469",
   "metadata": {},
   "outputs": [
    {
     "name": "stdout",
     "output_type": "stream",
     "text": [
      "For total_length=9mm, convergence is True.\n",
      "For total_length=8mm, convergence is True.\n",
      "For total_length=7mm, convergence is True.\n"
     ]
    }
   ],
   "source": [
    "# For each key, know if the solution data converged.\n",
    "if return_code == 0:\n",
    "    for item in all_sweeps.keys():\n",
    "        option_name = all_sweeps[item]['option_name']\n",
    "        did_converge = all_sweeps[item]['convergence']\n",
    "        print(f'For {option_name}={item}, convergence is {did_converge}.')\n",
    "else:\n",
    "    print('Check warning messages to see why all_sweeps is non-zero.')"
   ]
  },
  {
   "cell_type": "code",
   "execution_count": 73,
   "id": "1d476cf3",
   "metadata": {},
   "outputs": [
    {
     "name": "stdout",
     "output_type": "stream",
     "text": [
      "             Solved Elements  Max Mag. Delta S\n",
      "Pass Number                                   \n",
      "1                       5871               NaN\n",
      "2                       7634          0.997330\n",
      "3                       9880          0.322100\n",
      "4                      12847          0.298420\n",
      "5                      16705          0.140650\n",
      "6                      21718          0.086420\n",
      "7                      28234          0.051565\n",
      "8                      36706          0.033012\n",
      "9                      47719          0.020934\n",
      "10                     62035          0.012599\n"
     ]
    }
   ],
   "source": [
    "# For example, just one group of solution data. Look at convergence data.\n",
    "if return_code == 0:\n",
    "    print(all_sweeps['9mm']['convergence_t'])\n",
    "else:\n",
    "    print('Check warning messages to see why all_sweeps is non-zero.')"
   ]
  },
  {
   "cell_type": "code",
   "execution_count": 74,
   "id": "a88bd207",
   "metadata": {},
   "outputs": [
    {
     "name": "stdout",
     "output_type": "stream",
     "text": [
      "dict_keys(['option_name', 'convergence', 's_matrix', 'y_matrix', 'z_matrix', 'convergence_t'])\n"
     ]
    }
   ],
   "source": [
    "# Each values use for the given option, has three matrixes:\n",
    "# scatter, impedance, and admittance.\n",
    "if return_code == 0:\n",
    "    print(all_sweeps['9mm'].keys())\n",
    "else:\n",
    "    print('Check warning messages to see why all_sweeps is non-zero.')"
   ]
  },
  {
   "cell_type": "code",
   "execution_count": 75,
   "id": "bb009293",
   "metadata": {},
   "outputs": [
    {
     "name": "stdout",
     "output_type": "stream",
     "text": [
      "                       Z11                  Z21                 Z31  \\\n",
      "4.000 -0.000000-80.542168j  0.000000+92.681598j -0.000000+0.060008j   \n",
      "4.001 -0.000001-80.517900j  0.000001+92.660508j -0.000000+0.060109j   \n",
      "4.002 -0.000001-80.493643j  0.000002+92.639429j -0.000000+0.060210j   \n",
      "4.003 -0.000002-80.469397j  0.000002+92.618362j -0.000000+0.060311j   \n",
      "4.004 -0.000003-80.445162j  0.000003+92.597305j -0.000000+0.060413j   \n",
      "...                    ...                  ...                 ...   \n",
      "4.996  0.000002-60.812971j -0.000002+76.174085j  0.000000-0.087475j   \n",
      "4.997  0.000001-60.796553j -0.000002+76.160973j  0.000000-0.087277j   \n",
      "4.998  0.000001-60.780141j -0.000001+76.147868j  0.000000-0.087081j   \n",
      "4.999  0.000000-60.763734j -0.000001+76.134768j  0.000000-0.086886j   \n",
      "5.000  0.000000-60.747334j -0.000000+76.121675j -0.000000-0.086692j   \n",
      "\n",
      "                       Z12                  Z22                 Z32  \\\n",
      "4.000  0.000000+92.681598j -0.00000-080.539530j  0.000000-0.057683j   \n",
      "4.001  0.000001+92.660508j -0.000001-80.515264j  0.000000-0.057779j   \n",
      "4.002  0.000002+92.639429j -0.000001-80.491010j  0.000000-0.057876j   \n",
      "4.003  0.000002+92.618362j -0.000002-80.466766j  0.000000-0.057972j   \n",
      "4.004  0.000003+92.597305j -0.000002-80.442533j  0.000000-0.058069j   \n",
      "...                    ...                  ...                 ...   \n",
      "4.996 -0.000002+76.174085j  0.000002-60.805624j -0.000000+0.082756j   \n",
      "4.997 -0.000002+76.160973j  0.000001-60.789212j -0.000000+0.082568j   \n",
      "4.998 -0.000001+76.147868j  0.000001-60.772806j -0.000000+0.082381j   \n",
      "4.999 -0.000001+76.134768j  0.000000-60.756406j -0.000000+0.082195j   \n",
      "5.000  0.000000+76.121675j -0.000000-60.740012j  0.000000+0.082010j   \n",
      "\n",
      "                      Z13                 Z23                   Z33  \n",
      "4.000  0.000000+0.060008j -0.000000-0.057683j  0.000000-576.245244j  \n",
      "4.001 -0.000000+0.060109j  0.000000-0.057779j  0.000000-576.100122j  \n",
      "4.002 -0.000000+0.060210j  0.000000-0.057876j  0.000000-575.955072j  \n",
      "4.003 -0.000000+0.060311j  0.000000-0.057972j  0.000001-575.810092j  \n",
      "4.004 -0.000000+0.060413j  0.000000-0.058069j  0.000001-575.665184j  \n",
      "...                   ...                 ...                   ...  \n",
      "4.996  0.000000-0.087475j -0.000000+0.082756j -0.000001-461.108090j  \n",
      "4.997  0.000000-0.087277j -0.000000+0.082568j -0.000001-461.014511j  \n",
      "4.998  0.000000-0.087081j -0.000000+0.082381j -0.000000-460.920972j  \n",
      "4.999  0.000000-0.086886j -0.000000+0.082195j -0.000000-460.827472j  \n",
      "5.000  0.000000-0.086692j  0.000000+0.082010j -0.000000-460.734013j  \n",
      "\n",
      "[1001 rows x 9 columns]\n"
     ]
    }
   ],
   "source": [
    "# For example, just one group of solution data.\n",
    "if return_code == 0:\n",
    "    print(all_sweeps['9mm']['z_matrix'])\n",
    "else:\n",
    "    print('Check warning messages to see why all_sweeps is non-zero.')"
   ]
  },
  {
   "cell_type": "code",
   "execution_count": 85,
   "id": "545e5b3b",
   "metadata": {},
   "outputs": [],
   "source": [
    "if return_code == 0:\n",
    "    df_s = all_sweeps['9mm']['s_matrix']\n",
    "    #print(all_sweeps['9mm']['s_matrix'])\n",
    "else:\n",
    "    print('Check warning messages to see why all_sweeps is non-zero.')"
   ]
  },
  {
   "cell_type": "code",
   "execution_count": 86,
   "id": "c31ee7db",
   "metadata": {},
   "outputs": [],
   "source": [
    "df_s['20_log_of_mag_S11']= 20 * np.log10(np.absolute(df_s['S11']))\n",
    "df_s['20_log_of_mag_S21']= 20 * np.log10(np.absolute(df_s['S21']))\n",
    "df_s['20_log_of_mag_S31']= 20 * np.log10(np.absolute(df_s['S31']))\n",
    "\n",
    "# Reference to current axis.\n",
    "magnitude = plt.figure('Magnitude S11, S21, and S31')\n",
    "plt.clf()\n",
    "axis = plt.gca() # Get current axis.\n",
    "df_s = all_sweeps['9mm']['s_matrix']\n",
    "#df_s.plot(kind = 'line', y='20_log_of_mag_S11', color = 'green', ax = axis)\n",
    "df_s.plot(kind = 'line', y='20_log_of_mag_S21', color = 'blue', ax = axis)\n",
    "#df_s.plot(kind = 'line', y='20_log_of_mag_S31', color = 'red', ax = axis)\n",
    "plt.title(f'S-Parameter Magnitude')\n",
    "plt.xlabel(f'frequency [GHZ]')\n",
    "plt.ylabel(f'|S11|,|S21|,|S31| [dB]')\n",
    "magnitude.show()"
   ]
  },
  {
   "cell_type": "code",
   "execution_count": 87,
   "id": "ed1715cc",
   "metadata": {},
   "outputs": [],
   "source": [
    "# Data is shown as degrees.\n",
    "# However, if you want radians, change value of deg to false, deg=False.\n",
    "df_s['degrees_S11'] = np.angle(df_s['S11'], deg=True)\n",
    "df_s['degrees_S21'] = np.angle(df_s['S21'], deg=True)\n",
    "df_s['degrees_S31'] = np.angle(df_s['S31'], deg=True)\n",
    "\n",
    "# Reference to current axis.\n",
    "phase = plt.figure('Phase of S11 and S21')\n",
    "plt.clf()\n",
    "axis = plt.gca() # Get current axis.\n",
    "df_s = all_sweeps['9mm']['s_matrix']\n",
    "df_s.plot(kind = 'line', y='degrees_S11', color = 'green', ax = axis)\n",
    "df_s.plot(kind = 'line', y='degrees_S21', color = 'blue', ax = axis)\n",
    "df_s.plot(kind = 'line', y='degrees_S31', color = 'red', ax = axis)\n",
    "plt.title(f'S-Parameter Phase')\n",
    "plt.xlabel(f'frequency [GHZ]')\n",
    "plt.ylabel(f'<S11, <S21, <S31 [degrees]')\n",
    "phase.show()"
   ]
  },
  {
   "cell_type": "code",
   "execution_count": 88,
   "id": "26586b4b",
   "metadata": {},
   "outputs": [
    {
     "data": {
      "text/html": [
       "<div>\n",
       "<style scoped>\n",
       "    .dataframe tbody tr th:only-of-type {\n",
       "        vertical-align: middle;\n",
       "    }\n",
       "\n",
       "    .dataframe tbody tr th {\n",
       "        vertical-align: top;\n",
       "    }\n",
       "\n",
       "    .dataframe thead th {\n",
       "        text-align: right;\n",
       "    }\n",
       "</style>\n",
       "<table border=\"1\" class=\"dataframe\">\n",
       "  <thead>\n",
       "    <tr style=\"text-align: right;\">\n",
       "      <th></th>\n",
       "      <th>S11</th>\n",
       "      <th>S21</th>\n",
       "      <th>S31</th>\n",
       "      <th>S12</th>\n",
       "      <th>S22</th>\n",
       "      <th>S32</th>\n",
       "      <th>S13</th>\n",
       "      <th>S23</th>\n",
       "      <th>S33</th>\n",
       "      <th>20_log_of_mag_S11</th>\n",
       "      <th>20_log_of_mag_S21</th>\n",
       "      <th>20_log_of_mag_S31</th>\n",
       "      <th>degrees_S11</th>\n",
       "      <th>degrees_S21</th>\n",
       "      <th>degrees_S31</th>\n",
       "    </tr>\n",
       "  </thead>\n",
       "  <tbody>\n",
       "    <tr>\n",
       "      <th>4.000</th>\n",
       "      <td>-0.021220-0.037158j</td>\n",
       "      <td>-0.867415+0.495743j</td>\n",
       "      <td>-0.000024-0.000051j</td>\n",
       "      <td>-0.867415+0.495743j</td>\n",
       "      <td>-0.021245-0.037144j</td>\n",
       "      <td>0.000017+0.000054j</td>\n",
       "      <td>-0.000024-0.000051j</td>\n",
       "      <td>0.000017+0.000054j</td>\n",
       "      <td>0.985055-0.172240j</td>\n",
       "      <td>-27.373116</td>\n",
       "      <td>-0.007959</td>\n",
       "      <td>-84.923737</td>\n",
       "      <td>-119.729689</td>\n",
       "      <td>150.251278</td>\n",
       "      <td>-115.002472</td>\n",
       "    </tr>\n",
       "    <tr>\n",
       "      <th>4.001</th>\n",
       "      <td>-0.021230-0.037164j</td>\n",
       "      <td>-0.867350+0.495855j</td>\n",
       "      <td>-0.000024-0.000052j</td>\n",
       "      <td>-0.867350+0.495855j</td>\n",
       "      <td>-0.021254-0.037150j</td>\n",
       "      <td>0.000017+0.000054j</td>\n",
       "      <td>-0.000024-0.000052j</td>\n",
       "      <td>0.000017+0.000054j</td>\n",
       "      <td>0.985047-0.172283j</td>\n",
       "      <td>-27.371131</td>\n",
       "      <td>-0.007963</td>\n",
       "      <td>-84.904943</td>\n",
       "      <td>-119.737136</td>\n",
       "      <td>150.243842</td>\n",
       "      <td>-115.008178</td>\n",
       "    </tr>\n",
       "    <tr>\n",
       "      <th>4.002</th>\n",
       "      <td>-0.021239-0.037169j</td>\n",
       "      <td>-0.867285+0.495967j</td>\n",
       "      <td>-0.000024-0.000052j</td>\n",
       "      <td>-0.867285+0.495967j</td>\n",
       "      <td>-0.021264-0.037155j</td>\n",
       "      <td>0.000017+0.000054j</td>\n",
       "      <td>-0.000024-0.000052j</td>\n",
       "      <td>0.000017+0.000054j</td>\n",
       "      <td>0.985040-0.172326j</td>\n",
       "      <td>-27.369147</td>\n",
       "      <td>-0.007967</td>\n",
       "      <td>-84.886123</td>\n",
       "      <td>-119.744582</td>\n",
       "      <td>150.236406</td>\n",
       "      <td>-115.013884</td>\n",
       "    </tr>\n",
       "    <tr>\n",
       "      <th>4.003</th>\n",
       "      <td>-0.021249-0.037175j</td>\n",
       "      <td>-0.867220+0.496080j</td>\n",
       "      <td>-0.000024-0.000052j</td>\n",
       "      <td>-0.867220+0.496080j</td>\n",
       "      <td>-0.021274-0.037161j</td>\n",
       "      <td>0.000017+0.000054j</td>\n",
       "      <td>-0.000024-0.000052j</td>\n",
       "      <td>0.000017+0.000054j</td>\n",
       "      <td>0.985033-0.172369j</td>\n",
       "      <td>-27.367164</td>\n",
       "      <td>-0.007970</td>\n",
       "      <td>-84.867276</td>\n",
       "      <td>-119.752029</td>\n",
       "      <td>150.228970</td>\n",
       "      <td>-115.019590</td>\n",
       "    </tr>\n",
       "    <tr>\n",
       "      <th>4.004</th>\n",
       "      <td>-0.021259-0.037181j</td>\n",
       "      <td>-0.867156+0.496192j</td>\n",
       "      <td>-0.000024-0.000052j</td>\n",
       "      <td>-0.867156+0.496192j</td>\n",
       "      <td>-0.021283-0.037167j</td>\n",
       "      <td>0.000017+0.000054j</td>\n",
       "      <td>-0.000024-0.000052j</td>\n",
       "      <td>0.000017+0.000054j</td>\n",
       "      <td>0.985025-0.172411j</td>\n",
       "      <td>-27.365181</td>\n",
       "      <td>-0.007974</td>\n",
       "      <td>-84.848403</td>\n",
       "      <td>-119.759476</td>\n",
       "      <td>150.221534</td>\n",
       "      <td>-115.025296</td>\n",
       "    </tr>\n",
       "  </tbody>\n",
       "</table>\n",
       "</div>"
      ],
      "text/plain": [
       "                      S11                 S21                 S31  \\\n",
       "4.000 -0.021220-0.037158j -0.867415+0.495743j -0.000024-0.000051j   \n",
       "4.001 -0.021230-0.037164j -0.867350+0.495855j -0.000024-0.000052j   \n",
       "4.002 -0.021239-0.037169j -0.867285+0.495967j -0.000024-0.000052j   \n",
       "4.003 -0.021249-0.037175j -0.867220+0.496080j -0.000024-0.000052j   \n",
       "4.004 -0.021259-0.037181j -0.867156+0.496192j -0.000024-0.000052j   \n",
       "\n",
       "                      S12                 S22                 S32  \\\n",
       "4.000 -0.867415+0.495743j -0.021245-0.037144j  0.000017+0.000054j   \n",
       "4.001 -0.867350+0.495855j -0.021254-0.037150j  0.000017+0.000054j   \n",
       "4.002 -0.867285+0.495967j -0.021264-0.037155j  0.000017+0.000054j   \n",
       "4.003 -0.867220+0.496080j -0.021274-0.037161j  0.000017+0.000054j   \n",
       "4.004 -0.867156+0.496192j -0.021283-0.037167j  0.000017+0.000054j   \n",
       "\n",
       "                      S13                 S23                 S33  \\\n",
       "4.000 -0.000024-0.000051j  0.000017+0.000054j  0.985055-0.172240j   \n",
       "4.001 -0.000024-0.000052j  0.000017+0.000054j  0.985047-0.172283j   \n",
       "4.002 -0.000024-0.000052j  0.000017+0.000054j  0.985040-0.172326j   \n",
       "4.003 -0.000024-0.000052j  0.000017+0.000054j  0.985033-0.172369j   \n",
       "4.004 -0.000024-0.000052j  0.000017+0.000054j  0.985025-0.172411j   \n",
       "\n",
       "       20_log_of_mag_S11  20_log_of_mag_S21  20_log_of_mag_S31  degrees_S11  \\\n",
       "4.000         -27.373116          -0.007959         -84.923737  -119.729689   \n",
       "4.001         -27.371131          -0.007963         -84.904943  -119.737136   \n",
       "4.002         -27.369147          -0.007967         -84.886123  -119.744582   \n",
       "4.003         -27.367164          -0.007970         -84.867276  -119.752029   \n",
       "4.004         -27.365181          -0.007974         -84.848403  -119.759476   \n",
       "\n",
       "       degrees_S21  degrees_S31  \n",
       "4.000   150.251278  -115.002472  \n",
       "4.001   150.243842  -115.008178  \n",
       "4.002   150.236406  -115.013884  \n",
       "4.003   150.228970  -115.019590  \n",
       "4.004   150.221534  -115.025296  "
      ]
     },
     "execution_count": 88,
     "metadata": {},
     "output_type": "execute_result"
    }
   ],
   "source": [
    "df_s.head()"
   ]
  },
  {
   "cell_type": "code",
   "execution_count": 89,
   "id": "c5917507",
   "metadata": {},
   "outputs": [],
   "source": [
    "df_s.to_csv(\"s21_data.csv\")"
   ]
  },
  {
   "cell_type": "code",
   "execution_count": 26,
   "id": "3350d1fa",
   "metadata": {},
   "outputs": [
    {
     "name": "stderr",
     "output_type": "stream",
     "text": [
      "INFO 10:47AM [connect_project]: Connecting to Ansys Desktop API...\n",
      "INFO 10:47AM [load_ansys_project]: \tOpened Ansys App\n",
      "INFO 10:47AM [load_ansys_project]: \tOpened Ansys Desktop v2021.1.0\n",
      "INFO 10:47AM [load_ansys_project]: \tOpened Ansys Project\n",
      "\tFolder:    C:/Users/joshd/Documents/\n",
      "\tProject:   Project8\n",
      "INFO 10:47AM [connect_design]: \tOpened active design\n",
      "\tDesign:    Sweep_DrivenModal [Solution type: DrivenModal]\n",
      "INFO 10:47AM [get_setup]: \tOpened setup `Setup`  (<class 'pyEPR.ansys.HfssDMSetup'>)\n",
      "INFO 10:47AM [connect]: \tConnected to project \"Project8\" and design \"Sweep_DrivenModal\" 😀 \n",
      "\n",
      "INFO 10:47AM [connect_design]: \tOpened active design\n",
      "\tDesign:    Sweep_DrivenModal [Solution type: DrivenModal]\n",
      "INFO 10:47AM [get_setup]: \tOpened setup `Sweep_dm_setup`  (<class 'pyEPR.ansys.HfssDMSetup'>)\n",
      "INFO 10:48AM [get_setup]: \tOpened setup `Sweep_dm_setup`  (<class 'pyEPR.ansys.HfssDMSetup'>)\n",
      "INFO 10:48AM [get_setup]: \tOpened setup `Sweep_dm_setup`  (<class 'pyEPR.ansys.HfssDMSetup'>)\n",
      "INFO 10:48AM [analyze]: Analyzing setup Sweep_dm_setup : Sweep_options__dm_sweep\n",
      "INFO 11:01AM [get_setup]: \tOpened setup `Sweep_dm_setup`  (<class 'pyEPR.ansys.HfssDMSetup'>)\n",
      "INFO 11:01AM [analyze]: Analyzing setup Sweep_dm_setup : Sweep_options__dm_sweep\n",
      "INFO 11:14AM [get_setup]: \tOpened setup `Sweep_dm_setup`  (<class 'pyEPR.ansys.HfssDMSetup'>)\n",
      "INFO 11:14AM [analyze]: Analyzing setup Sweep_dm_setup : Sweep_options__dm_sweep\n"
     ]
    }
   ],
   "source": [
    "# In HFSS, after the last sweep, should the design be cleared?  The argument \"leave_last_design\" is true by default.\n",
    "# If you want to delete after last sweep, change argument to false.\n",
    "\n",
    "leave_last_design = False\n",
    "\n",
    "all_sweeps, return_code = sweep.sweep_one_option_get_drivenmodal_solution_data(\n",
    "    meanderQ1.name,\n",
    "    'total_length', ['9mm', '8mm', '7mm'],\n",
    "    dm_render_args,\n",
    "    setup_args=hfss_dm_setup_args,\n",
    "    dm_add_sweep_args=dm_add_sweep_args,\n",
    "    leave_last_design=leave_last_design)"
   ]
  }
 ],
 "metadata": {
  "kernelspec": {
   "display_name": "Python 3",
   "language": "python",
   "name": "python3"
  },
  "language_info": {
   "codemirror_mode": {
    "name": "ipython",
    "version": 3
   },
   "file_extension": ".py",
   "mimetype": "text/x-python",
   "name": "python",
   "nbconvert_exporter": "python",
   "pygments_lexer": "ipython3",
   "version": "3.9.5"
  }
 },
 "nbformat": 4,
 "nbformat_minor": 5
}
